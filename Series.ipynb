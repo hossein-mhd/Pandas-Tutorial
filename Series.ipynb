{
 "cells": [
  {
   "cell_type": "code",
   "execution_count": 1,
   "id": "d970cc45-fc05-427c-97a0-37e74f70b82f",
   "metadata": {},
   "outputs": [],
   "source": [
    "import numpy as np"
   ]
  },
  {
   "cell_type": "code",
   "execution_count": 2,
   "id": "d6e7c016-b163-4076-a8d8-54dba9261634",
   "metadata": {},
   "outputs": [],
   "source": [
    "import pandas as pd"
   ]
  },
  {
   "cell_type": "code",
   "execution_count": 18,
   "id": "e1f83c1f-773c-4009-8f3b-1937b3c6dc84",
   "metadata": {},
   "outputs": [],
   "source": [
    "myIndex = [\"esteghlal\",\"pas\",\"perspolis\"]"
   ]
  },
  {
   "cell_type": "code",
   "execution_count": 33,
   "id": "93532072-d351-4c94-ba92-c6aad51e7ea5",
   "metadata": {},
   "outputs": [],
   "source": [
    "myData = [1991,1992,2900]"
   ]
  },
  {
   "cell_type": "code",
   "execution_count": 34,
   "id": "1f8a9a6c-396d-41fe-b491-6794a52388f3",
   "metadata": {},
   "outputs": [],
   "source": [
    "mySeries = pd.Series(data = myData)"
   ]
  },
  {
   "cell_type": "code",
   "execution_count": 35,
   "id": "4eb78c6e-a13e-4ee7-82db-f76702b23370",
   "metadata": {},
   "outputs": [
    {
     "data": {
      "text/plain": [
       "0    1991\n",
       "1    1992\n",
       "2    2900\n",
       "dtype: int64"
      ]
     },
     "execution_count": 35,
     "metadata": {},
     "output_type": "execute_result"
    }
   ],
   "source": [
    "mySeries"
   ]
  },
  {
   "cell_type": "code",
   "execution_count": 36,
   "id": "6734886b-c433-4712-aa6a-fb6541cf8dbc",
   "metadata": {},
   "outputs": [
    {
     "data": {
      "text/plain": [
       "pandas.core.series.Series"
      ]
     },
     "execution_count": 36,
     "metadata": {},
     "output_type": "execute_result"
    }
   ],
   "source": [
    "type(mySeries)"
   ]
  },
  {
   "cell_type": "code",
   "execution_count": 41,
   "id": "b39a08ed-1773-4f19-b2dc-35ec8a672c0b",
   "metadata": {},
   "outputs": [],
   "source": [
    "mySeries = pd.Series(data = myData, index = myIndex)\n",
    "# OR\n",
    "# mySeries = pd.Series(myData, myIndex)"
   ]
  },
  {
   "cell_type": "code",
   "execution_count": 42,
   "id": "13e6ced4-bbd8-4cfd-9aa2-fbeb375336db",
   "metadata": {},
   "outputs": [
    {
     "data": {
      "text/plain": [
       "esteghlal    1991\n",
       "pas          1992\n",
       "perspolis    2900\n",
       "dtype: int64"
      ]
     },
     "execution_count": 42,
     "metadata": {},
     "output_type": "execute_result"
    }
   ],
   "source": [
    "mySeries"
   ]
  },
  {
   "cell_type": "code",
   "execution_count": 43,
   "id": "271e29e4-2ae0-4354-9b35-5ccc515adaa2",
   "metadata": {},
   "outputs": [
    {
     "name": "stderr",
     "output_type": "stream",
     "text": [
      "C:\\Users\\Chalus System\\AppData\\Local\\Temp\\ipykernel_34212\\2378560465.py:1: FutureWarning: Series.__getitem__ treating keys as positions is deprecated. In a future version, integer keys will always be treated as labels (consistent with DataFrame behavior). To access a value by position, use `ser.iloc[pos]`\n",
      "  mySeries[0]\n"
     ]
    },
    {
     "data": {
      "text/plain": [
       "1991"
      ]
     },
     "execution_count": 43,
     "metadata": {},
     "output_type": "execute_result"
    }
   ],
   "source": [
    "mySeries[0]"
   ]
  },
  {
   "cell_type": "code",
   "execution_count": 44,
   "id": "b30ed5ce-fc31-429b-91fa-eb85543b64db",
   "metadata": {},
   "outputs": [
    {
     "name": "stderr",
     "output_type": "stream",
     "text": [
      "C:\\Users\\Chalus System\\AppData\\Local\\Temp\\ipykernel_34212\\260787569.py:1: FutureWarning: Series.__getitem__ treating keys as positions is deprecated. In a future version, integer keys will always be treated as labels (consistent with DataFrame behavior). To access a value by position, use `ser.iloc[pos]`\n",
      "  mySeries[1]\n"
     ]
    },
    {
     "data": {
      "text/plain": [
       "1992"
      ]
     },
     "execution_count": 44,
     "metadata": {},
     "output_type": "execute_result"
    }
   ],
   "source": [
    "mySeries[1]"
   ]
  },
  {
   "cell_type": "code",
   "execution_count": 45,
   "id": "d84e81c1-6f76-4c4d-b7c7-0f3b53a6464c",
   "metadata": {},
   "outputs": [
    {
     "data": {
      "text/plain": [
       "1991"
      ]
     },
     "execution_count": 45,
     "metadata": {},
     "output_type": "execute_result"
    }
   ],
   "source": [
    "mySeries['esteghlal']"
   ]
  },
  {
   "cell_type": "code",
   "execution_count": 46,
   "id": "195b22da-e899-4a63-a617-205ad773612c",
   "metadata": {},
   "outputs": [
    {
     "data": {
      "text/plain": [
       "1992"
      ]
     },
     "execution_count": 46,
     "metadata": {},
     "output_type": "execute_result"
    }
   ],
   "source": [
    "mySeries['pas']"
   ]
  },
  {
   "cell_type": "code",
   "execution_count": 47,
   "id": "b08cfda1-62ce-4c7f-8dec-ab15a89d8276",
   "metadata": {},
   "outputs": [],
   "source": [
    "aclChampions = { \"esteghlal\":1991, \"pas\":1992, \"perspolis\":2900}"
   ]
  },
  {
   "cell_type": "code",
   "execution_count": 48,
   "id": "41c6147b-3ce5-489c-9a24-0f7e18129baa",
   "metadata": {},
   "outputs": [
    {
     "data": {
      "text/plain": [
       "esteghlal    1991\n",
       "pas          1992\n",
       "perspolis    2900\n",
       "dtype: int64"
      ]
     },
     "execution_count": 48,
     "metadata": {},
     "output_type": "execute_result"
    }
   ],
   "source": [
    "pd.Series(aclChampions)"
   ]
  },
  {
   "cell_type": "code",
   "execution_count": 49,
   "id": "a862a473-0328-4067-82d1-e851c3ce0cfd",
   "metadata": {},
   "outputs": [],
   "source": [
    "# Imaginary Sales Data for 1st and 2nd Quarters for Global Company\n",
    "q1 = {'Japan': 80, 'China': 450, 'India': 200, 'USA': 250}\n",
    "q2 = {'Brazil': 100,'China': 500, 'India': 210,'USA': 260}"
   ]
  },
  {
   "cell_type": "code",
   "execution_count": 50,
   "id": "eb661b75-2dde-4bff-af43-5a565413d125",
   "metadata": {},
   "outputs": [],
   "source": [
    "sales_q1 = pd.Series(q1)"
   ]
  },
  {
   "cell_type": "code",
   "execution_count": 51,
   "id": "ac510ee4-bdb0-4683-bc0d-63c8afb90867",
   "metadata": {},
   "outputs": [],
   "source": [
    "sales_q2 = pd.Series(q2)"
   ]
  },
  {
   "cell_type": "code",
   "execution_count": 52,
   "id": "b154235d-513c-41ea-938b-32cd7d61729c",
   "metadata": {},
   "outputs": [
    {
     "data": {
      "text/plain": [
       "Japan     80\n",
       "China    450\n",
       "India    200\n",
       "USA      250\n",
       "dtype: int64"
      ]
     },
     "execution_count": 52,
     "metadata": {},
     "output_type": "execute_result"
    }
   ],
   "source": [
    "sales_q1"
   ]
  },
  {
   "cell_type": "code",
   "execution_count": 53,
   "id": "a637efb5-5e7f-4ba9-801b-d8d8193bb806",
   "metadata": {},
   "outputs": [
    {
     "data": {
      "text/plain": [
       "Brazil    100\n",
       "China     500\n",
       "India     210\n",
       "USA       260\n",
       "dtype: int64"
      ]
     },
     "execution_count": 53,
     "metadata": {},
     "output_type": "execute_result"
    }
   ],
   "source": [
    "sales_q2"
   ]
  },
  {
   "cell_type": "code",
   "execution_count": 54,
   "id": "70c2c8d4-8c8c-4212-83f0-b2d81eb02da3",
   "metadata": {},
   "outputs": [
    {
     "data": {
      "text/plain": [
       "80"
      ]
     },
     "execution_count": 54,
     "metadata": {},
     "output_type": "execute_result"
    }
   ],
   "source": [
    "sales_q1['Japan']"
   ]
  },
  {
   "cell_type": "code",
   "execution_count": 55,
   "id": "597997b6-cc8e-4cd5-a0d9-6e145acc3f0b",
   "metadata": {},
   "outputs": [
    {
     "data": {
      "text/plain": [
       "Index(['Japan', 'China', 'India', 'USA'], dtype='object')"
      ]
     },
     "execution_count": 55,
     "metadata": {},
     "output_type": "execute_result"
    }
   ],
   "source": [
    "sales_q1.keys()"
   ]
  },
  {
   "cell_type": "code",
   "execution_count": 60,
   "id": "624f3069-b81d-4aea-be2f-7d7f631985ae",
   "metadata": {},
   "outputs": [
    {
     "name": "stdout",
     "output_type": "stream",
     "text": [
      "[1, 2, 1, 2]\n",
      "[2 4]\n"
     ]
    }
   ],
   "source": [
    "a = [1,2] * 2\n",
    "b = np.array([1,2]) * 2\n",
    "print(a)\n",
    "print(b)"
   ]
  },
  {
   "cell_type": "code",
   "execution_count": 61,
   "id": "01b90171-39c2-48cd-865a-f43c0e2f69d9",
   "metadata": {},
   "outputs": [
    {
     "data": {
      "text/plain": [
       "Japan     960\n",
       "China    5400\n",
       "India    2400\n",
       "USA      3000\n",
       "dtype: int64"
      ]
     },
     "execution_count": 61,
     "metadata": {},
     "output_type": "execute_result"
    }
   ],
   "source": [
    "sales_q1 * 12"
   ]
  },
  {
   "cell_type": "code",
   "execution_count": 62,
   "id": "2753d1d3-a2d4-48d8-bd4a-94e2fd034690",
   "metadata": {},
   "outputs": [
    {
     "data": {
      "text/plain": [
       "Brazil    1.0\n",
       "China     5.0\n",
       "India     2.1\n",
       "USA       2.6\n",
       "dtype: float64"
      ]
     },
     "execution_count": 62,
     "metadata": {},
     "output_type": "execute_result"
    }
   ],
   "source": [
    "sales_q2 / 100"
   ]
  },
  {
   "cell_type": "code",
   "execution_count": 63,
   "id": "5164133b-dbc2-4789-966b-8eac8486e81d",
   "metadata": {},
   "outputs": [
    {
     "data": {
      "text/plain": [
       "Japan     80\n",
       "China    450\n",
       "India    200\n",
       "USA      250\n",
       "dtype: int64"
      ]
     },
     "execution_count": 63,
     "metadata": {},
     "output_type": "execute_result"
    }
   ],
   "source": [
    "sales_q1"
   ]
  },
  {
   "cell_type": "code",
   "execution_count": 64,
   "id": "fadf7125-8b98-4f05-a503-d8178d49c87c",
   "metadata": {},
   "outputs": [
    {
     "data": {
      "text/plain": [
       "Brazil    100\n",
       "China     500\n",
       "India     210\n",
       "USA       260\n",
       "dtype: int64"
      ]
     },
     "execution_count": 64,
     "metadata": {},
     "output_type": "execute_result"
    }
   ],
   "source": [
    "sales_q2"
   ]
  },
  {
   "cell_type": "code",
   "execution_count": 67,
   "id": "e2be9e7e-5c44-466a-ac0e-e44a75895295",
   "metadata": {},
   "outputs": [
    {
     "data": {
      "text/plain": [
       "Brazil      NaN\n",
       "China     950.0\n",
       "India     410.0\n",
       "Japan       NaN\n",
       "USA       510.0\n",
       "dtype: float64"
      ]
     },
     "execution_count": 67,
     "metadata": {},
     "output_type": "execute_result"
    }
   ],
   "source": [
    "sales_q1 + sales_q2\n",
    "\n",
    "# \"NAN\" for japan and brazil because they are not present in the both series"
   ]
  },
  {
   "cell_type": "code",
   "execution_count": 68,
   "id": "03a9a524-f699-4ff5-b163-a1673662d131",
   "metadata": {},
   "outputs": [
    {
     "data": {
      "text/plain": [
       "Brazil    100.0\n",
       "China     950.0\n",
       "India     410.0\n",
       "Japan      80.0\n",
       "USA       510.0\n",
       "dtype: float64"
      ]
     },
     "execution_count": 68,
     "metadata": {},
     "output_type": "execute_result"
    }
   ],
   "source": [
    "sales_q1.add(sales_q2, fill_value=0)"
   ]
  },
  {
   "cell_type": "code",
   "execution_count": 73,
   "id": "263a051f-38cb-47c0-8476-2b87bed1ca6a",
   "metadata": {},
   "outputs": [
    {
     "data": {
      "text/plain": [
       "Brazil    100\n",
       "China     950\n",
       "India     410\n",
       "Japan      80\n",
       "USA       510\n",
       "dtype: int64"
      ]
     },
     "execution_count": 73,
     "metadata": {},
     "output_type": "execute_result"
    }
   ],
   "source": [
    "pd.Series(sales_q1.add(sales_q2, fill_value=0),dtype=\"int64\")"
   ]
  },
  {
   "cell_type": "code",
   "execution_count": null,
   "id": "d5310957-35c8-44f3-b29f-a4e4a9577587",
   "metadata": {},
   "outputs": [],
   "source": []
  }
 ],
 "metadata": {
  "kernelspec": {
   "display_name": "Python 3 (ipykernel)",
   "language": "python",
   "name": "python3"
  },
  "language_info": {
   "codemirror_mode": {
    "name": "ipython",
    "version": 3
   },
   "file_extension": ".py",
   "mimetype": "text/x-python",
   "name": "python",
   "nbconvert_exporter": "python",
   "pygments_lexer": "ipython3",
   "version": "3.11.7"
  }
 },
 "nbformat": 4,
 "nbformat_minor": 5
}
